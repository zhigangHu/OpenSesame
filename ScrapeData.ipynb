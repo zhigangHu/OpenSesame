{
 "cells": [
  {
   "cell_type": "code",
   "execution_count": 16,
   "metadata": {
    "collapsed": true,
    "pycharm": {
     "is_executing": false
    }
   },
   "outputs": [],
   "source": [
    "import numpy as np\n",
    "import pandas as pd\n",
    "from pandas import Series,DataFrame\n",
    "\n",
    "import pandas_datareader as pdr\n",
    "\n",
    "import matplotlib.pyplot as plt\n",
    "import seaborn as sns\n",
    "\n",
    "\n",
    "from datetime import datetime\n"
   ]
  },
  {
   "cell_type": "code",
   "execution_count": 17,
   "outputs": [
    {
     "data": {
      "text/plain": "                 High        Low       Open      Close    Volume  Adj Close\nDate                                                                       \n2015-09-21  66.400002  62.959999  65.379997  63.900002  22355100  63.900002\n2015-09-22  63.270000  61.580002  62.939999  61.900002  14897900  61.900002\n2015-09-23  62.299999  59.680000  61.959999  60.000000  22684600  60.000000\n2015-09-24  60.340000  58.209999  59.419998  59.919998  20645700  59.919998\n2015-09-25  60.840000  58.919998  60.630001  59.240002  17009100  59.240002",
      "text/html": "<div>\n<style scoped>\n    .dataframe tbody tr th:only-of-type {\n        vertical-align: middle;\n    }\n\n    .dataframe tbody tr th {\n        vertical-align: top;\n    }\n\n    .dataframe thead th {\n        text-align: right;\n    }\n</style>\n<table border=\"1\" class=\"dataframe\">\n  <thead>\n    <tr style=\"text-align: right;\">\n      <th></th>\n      <th>High</th>\n      <th>Low</th>\n      <th>Open</th>\n      <th>Close</th>\n      <th>Volume</th>\n      <th>Adj Close</th>\n    </tr>\n    <tr>\n      <th>Date</th>\n      <th></th>\n      <th></th>\n      <th></th>\n      <th></th>\n      <th></th>\n      <th></th>\n    </tr>\n  </thead>\n  <tbody>\n    <tr>\n      <td>2015-09-21</td>\n      <td>66.400002</td>\n      <td>62.959999</td>\n      <td>65.379997</td>\n      <td>63.900002</td>\n      <td>22355100</td>\n      <td>63.900002</td>\n    </tr>\n    <tr>\n      <td>2015-09-22</td>\n      <td>63.270000</td>\n      <td>61.580002</td>\n      <td>62.939999</td>\n      <td>61.900002</td>\n      <td>14897900</td>\n      <td>61.900002</td>\n    </tr>\n    <tr>\n      <td>2015-09-23</td>\n      <td>62.299999</td>\n      <td>59.680000</td>\n      <td>61.959999</td>\n      <td>60.000000</td>\n      <td>22684600</td>\n      <td>60.000000</td>\n    </tr>\n    <tr>\n      <td>2015-09-24</td>\n      <td>60.340000</td>\n      <td>58.209999</td>\n      <td>59.419998</td>\n      <td>59.919998</td>\n      <td>20645700</td>\n      <td>59.919998</td>\n    </tr>\n    <tr>\n      <td>2015-09-25</td>\n      <td>60.840000</td>\n      <td>58.919998</td>\n      <td>60.630001</td>\n      <td>59.240002</td>\n      <td>17009100</td>\n      <td>59.240002</td>\n    </tr>\n  </tbody>\n</table>\n</div>"
     },
     "metadata": {},
     "output_type": "execute_result",
     "execution_count": 17
    }
   ],
   "source": [
    "start=datetime(2015,9,20)\n",
    "alibaba=pdr.get_data_yahoo('BABA',start=start)\n",
    "amazon=pdr.get_data_yahoo('AMZN',start=start)\n",
    "# apple=pdr.get_data_yahoo('APPL',start=start)\n",
    "google=pdr.get_data_yahoo('GOOG',start=start)\n",
    "microsoft=pdr.get_data_yahoo('MSFT',start=start)\n",
    "facebook=pdr.get_data_yahoo('FB',start=start)\n",
    "\n",
    "\n",
    "alibaba.head()"
   ],
   "metadata": {
    "collapsed": false,
    "pycharm": {
     "name": "#%%\n",
     "is_executing": false
    }
   }
  },
  {
   "cell_type": "code",
   "execution_count": null,
   "outputs": [],
   "source": [
    "alibaba.head()\n"
   ],
   "metadata": {
    "collapsed": false,
    "pycharm": {
     "name": "#%%\n",
     "is_executing": false
    }
   }
  },
  {
   "cell_type": "code",
   "execution_count": null,
   "outputs": [],
   "source": [
    "amazon.head()\n",
    "\n"
   ],
   "metadata": {
    "collapsed": false,
    "pycharm": {
     "name": "#%%\n",
     "is_executing": false
    }
   }
  },
  {
   "cell_type": "code",
   "execution_count": 21,
   "outputs": [
    {
     "traceback": [
      "\u001b[1;31m---------------------------------------------------------------------------\u001b[0m",
      "\u001b[1;31mFileNotFoundError\u001b[0m                         Traceback (most recent call last)",
      "\u001b[1;32m<ipython-input-21-e5dc76949e1b>\u001b[0m in \u001b[0;36m<module>\u001b[1;34m\u001b[0m\n\u001b[1;32m----> 1\u001b[1;33m \u001b[0malibaba\u001b[0m\u001b[1;33m.\u001b[0m\u001b[0mto_csv\u001b[0m\u001b[1;33m(\u001b[0m\u001b[1;34m'./data/BABA.csv'\u001b[0m\u001b[1;33m)\u001b[0m\u001b[1;33m\u001b[0m\u001b[1;33m\u001b[0m\u001b[0m\n\u001b[0m\u001b[0;32m      2\u001b[0m \u001b[1;33m\u001b[0m\u001b[0m\n\u001b[0;32m      3\u001b[0m \u001b[1;33m\u001b[0m\u001b[0m\n",
      "\u001b[1;32mC:\\Anaconda3\\lib\\site-packages\\pandas\\core\\generic.py\u001b[0m in \u001b[0;36mto_csv\u001b[1;34m(self, path_or_buf, sep, na_rep, float_format, columns, header, index, index_label, mode, encoding, compression, quoting, quotechar, line_terminator, chunksize, date_format, doublequote, escapechar, decimal)\u001b[0m\n\u001b[0;32m   3226\u001b[0m             \u001b[0mdecimal\u001b[0m\u001b[1;33m=\u001b[0m\u001b[0mdecimal\u001b[0m\u001b[1;33m,\u001b[0m\u001b[1;33m\u001b[0m\u001b[1;33m\u001b[0m\u001b[0m\n\u001b[0;32m   3227\u001b[0m         )\n\u001b[1;32m-> 3228\u001b[1;33m         \u001b[0mformatter\u001b[0m\u001b[1;33m.\u001b[0m\u001b[0msave\u001b[0m\u001b[1;33m(\u001b[0m\u001b[1;33m)\u001b[0m\u001b[1;33m\u001b[0m\u001b[1;33m\u001b[0m\u001b[0m\n\u001b[0m\u001b[0;32m   3229\u001b[0m \u001b[1;33m\u001b[0m\u001b[0m\n\u001b[0;32m   3230\u001b[0m         \u001b[1;32mif\u001b[0m \u001b[0mpath_or_buf\u001b[0m \u001b[1;32mis\u001b[0m \u001b[1;32mNone\u001b[0m\u001b[1;33m:\u001b[0m\u001b[1;33m\u001b[0m\u001b[1;33m\u001b[0m\u001b[0m\n",
      "\u001b[1;32mC:\\Anaconda3\\lib\\site-packages\\pandas\\io\\formats\\csvs.py\u001b[0m in \u001b[0;36msave\u001b[1;34m(self)\u001b[0m\n\u001b[0;32m    181\u001b[0m                 \u001b[0mself\u001b[0m\u001b[1;33m.\u001b[0m\u001b[0mmode\u001b[0m\u001b[1;33m,\u001b[0m\u001b[1;33m\u001b[0m\u001b[1;33m\u001b[0m\u001b[0m\n\u001b[0;32m    182\u001b[0m                 \u001b[0mencoding\u001b[0m\u001b[1;33m=\u001b[0m\u001b[0mself\u001b[0m\u001b[1;33m.\u001b[0m\u001b[0mencoding\u001b[0m\u001b[1;33m,\u001b[0m\u001b[1;33m\u001b[0m\u001b[1;33m\u001b[0m\u001b[0m\n\u001b[1;32m--> 183\u001b[1;33m                 \u001b[0mcompression\u001b[0m\u001b[1;33m=\u001b[0m\u001b[0mself\u001b[0m\u001b[1;33m.\u001b[0m\u001b[0mcompression\u001b[0m\u001b[1;33m,\u001b[0m\u001b[1;33m\u001b[0m\u001b[1;33m\u001b[0m\u001b[0m\n\u001b[0m\u001b[0;32m    184\u001b[0m             )\n\u001b[0;32m    185\u001b[0m             \u001b[0mclose\u001b[0m \u001b[1;33m=\u001b[0m \u001b[1;32mTrue\u001b[0m\u001b[1;33m\u001b[0m\u001b[1;33m\u001b[0m\u001b[0m\n",
      "\u001b[1;32mC:\\Anaconda3\\lib\\site-packages\\pandas\\io\\common.py\u001b[0m in \u001b[0;36m_get_handle\u001b[1;34m(path_or_buf, mode, encoding, compression, memory_map, is_text)\u001b[0m\n\u001b[0;32m    397\u001b[0m         \u001b[1;32mif\u001b[0m \u001b[0mencoding\u001b[0m\u001b[1;33m:\u001b[0m\u001b[1;33m\u001b[0m\u001b[1;33m\u001b[0m\u001b[0m\n\u001b[0;32m    398\u001b[0m             \u001b[1;31m# Encoding\u001b[0m\u001b[1;33m\u001b[0m\u001b[1;33m\u001b[0m\u001b[1;33m\u001b[0m\u001b[0m\n\u001b[1;32m--> 399\u001b[1;33m             \u001b[0mf\u001b[0m \u001b[1;33m=\u001b[0m \u001b[0mopen\u001b[0m\u001b[1;33m(\u001b[0m\u001b[0mpath_or_buf\u001b[0m\u001b[1;33m,\u001b[0m \u001b[0mmode\u001b[0m\u001b[1;33m,\u001b[0m \u001b[0mencoding\u001b[0m\u001b[1;33m=\u001b[0m\u001b[0mencoding\u001b[0m\u001b[1;33m,\u001b[0m \u001b[0mnewline\u001b[0m\u001b[1;33m=\u001b[0m\u001b[1;34m\"\"\u001b[0m\u001b[1;33m)\u001b[0m\u001b[1;33m\u001b[0m\u001b[1;33m\u001b[0m\u001b[0m\n\u001b[0m\u001b[0;32m    400\u001b[0m         \u001b[1;32melif\u001b[0m \u001b[0mis_text\u001b[0m\u001b[1;33m:\u001b[0m\u001b[1;33m\u001b[0m\u001b[1;33m\u001b[0m\u001b[0m\n\u001b[0;32m    401\u001b[0m             \u001b[1;31m# No explicit encoding\u001b[0m\u001b[1;33m\u001b[0m\u001b[1;33m\u001b[0m\u001b[1;33m\u001b[0m\u001b[0m\n",
      "\u001b[1;31mFileNotFoundError\u001b[0m: [Errno 2] No such file or directory: './data/BABA.csv'"
     ],
     "ename": "FileNotFoundError",
     "evalue": "[Errno 2] No such file or directory: './data/BABA.csv'",
     "output_type": "error"
    }
   ],
   "source": [
    "alibaba.to_csv('./data/BABA.csv')\n"
   ],
   "metadata": {
    "collapsed": false,
    "pycharm": {
     "name": "#%%\n",
     "is_executing": false
    }
   }
  },
  {
   "cell_type": "code",
   "execution_count": 18,
   "outputs": [
    {
     "data": {
      "text/plain": "                  High         Low        Open       Close   Volume  \\\nDate                                                                  \n2015-09-21  636.489990  625.940002  634.400024  635.440002  1788500   \n2015-09-22  627.549988  615.429993  627.000000  622.690002  2562900   \n2015-09-23  628.929993  620.000000  622.049988  622.359985  1470900   \n2015-09-24  627.320007  612.400024  616.640015  625.799988  2240100   \n2015-09-25  629.770020  611.000000  629.770020  611.969971  2174000   \n\n             Adj Close  \nDate                    \n2015-09-21  635.440002  \n2015-09-22  622.690002  \n2015-09-23  622.359985  \n2015-09-24  625.799988  \n2015-09-25  611.969971  ",
      "text/html": "<div>\n<style scoped>\n    .dataframe tbody tr th:only-of-type {\n        vertical-align: middle;\n    }\n\n    .dataframe tbody tr th {\n        vertical-align: top;\n    }\n\n    .dataframe thead th {\n        text-align: right;\n    }\n</style>\n<table border=\"1\" class=\"dataframe\">\n  <thead>\n    <tr style=\"text-align: right;\">\n      <th></th>\n      <th>High</th>\n      <th>Low</th>\n      <th>Open</th>\n      <th>Close</th>\n      <th>Volume</th>\n      <th>Adj Close</th>\n    </tr>\n    <tr>\n      <th>Date</th>\n      <th></th>\n      <th></th>\n      <th></th>\n      <th></th>\n      <th></th>\n      <th></th>\n    </tr>\n  </thead>\n  <tbody>\n    <tr>\n      <td>2015-09-21</td>\n      <td>636.489990</td>\n      <td>625.940002</td>\n      <td>634.400024</td>\n      <td>635.440002</td>\n      <td>1788500</td>\n      <td>635.440002</td>\n    </tr>\n    <tr>\n      <td>2015-09-22</td>\n      <td>627.549988</td>\n      <td>615.429993</td>\n      <td>627.000000</td>\n      <td>622.690002</td>\n      <td>2562900</td>\n      <td>622.690002</td>\n    </tr>\n    <tr>\n      <td>2015-09-23</td>\n      <td>628.929993</td>\n      <td>620.000000</td>\n      <td>622.049988</td>\n      <td>622.359985</td>\n      <td>1470900</td>\n      <td>622.359985</td>\n    </tr>\n    <tr>\n      <td>2015-09-24</td>\n      <td>627.320007</td>\n      <td>612.400024</td>\n      <td>616.640015</td>\n      <td>625.799988</td>\n      <td>2240100</td>\n      <td>625.799988</td>\n    </tr>\n    <tr>\n      <td>2015-09-25</td>\n      <td>629.770020</td>\n      <td>611.000000</td>\n      <td>629.770020</td>\n      <td>611.969971</td>\n      <td>2174000</td>\n      <td>611.969971</td>\n    </tr>\n  </tbody>\n</table>\n</div>"
     },
     "metadata": {},
     "output_type": "execute_result",
     "execution_count": 18
    }
   ],
   "source": [
    "google.head()"
   ],
   "metadata": {
    "collapsed": false,
    "pycharm": {
     "name": "#%%\n",
     "is_executing": false
    }
   }
  },
  {
   "cell_type": "code",
   "execution_count": 20,
   "outputs": [
    {
     "data": {
      "text/plain": "                 High        Low       Open      Close      Volume  Adj Close\nDate                                                                         \n2015-09-21  44.470001  43.599998  43.619999  44.110001  26177200.0  40.543335\n2015-09-22  44.049999  43.310001  43.380001  43.900002  28085900.0  40.350307\n2015-09-23  44.169998  43.509998  43.930000  43.869999  17145200.0  40.322735\n2015-09-24  44.130001  43.270000  43.450001  43.910000  27905600.0  40.359509\n2015-09-25  44.730000  43.759998  44.480000  43.939999  29384600.0  40.387074",
      "text/html": "<div>\n<style scoped>\n    .dataframe tbody tr th:only-of-type {\n        vertical-align: middle;\n    }\n\n    .dataframe tbody tr th {\n        vertical-align: top;\n    }\n\n    .dataframe thead th {\n        text-align: right;\n    }\n</style>\n<table border=\"1\" class=\"dataframe\">\n  <thead>\n    <tr style=\"text-align: right;\">\n      <th></th>\n      <th>High</th>\n      <th>Low</th>\n      <th>Open</th>\n      <th>Close</th>\n      <th>Volume</th>\n      <th>Adj Close</th>\n    </tr>\n    <tr>\n      <th>Date</th>\n      <th></th>\n      <th></th>\n      <th></th>\n      <th></th>\n      <th></th>\n      <th></th>\n    </tr>\n  </thead>\n  <tbody>\n    <tr>\n      <td>2015-09-21</td>\n      <td>44.470001</td>\n      <td>43.599998</td>\n      <td>43.619999</td>\n      <td>44.110001</td>\n      <td>26177200.0</td>\n      <td>40.543335</td>\n    </tr>\n    <tr>\n      <td>2015-09-22</td>\n      <td>44.049999</td>\n      <td>43.310001</td>\n      <td>43.380001</td>\n      <td>43.900002</td>\n      <td>28085900.0</td>\n      <td>40.350307</td>\n    </tr>\n    <tr>\n      <td>2015-09-23</td>\n      <td>44.169998</td>\n      <td>43.509998</td>\n      <td>43.930000</td>\n      <td>43.869999</td>\n      <td>17145200.0</td>\n      <td>40.322735</td>\n    </tr>\n    <tr>\n      <td>2015-09-24</td>\n      <td>44.130001</td>\n      <td>43.270000</td>\n      <td>43.450001</td>\n      <td>43.910000</td>\n      <td>27905600.0</td>\n      <td>40.359509</td>\n    </tr>\n    <tr>\n      <td>2015-09-25</td>\n      <td>44.730000</td>\n      <td>43.759998</td>\n      <td>44.480000</td>\n      <td>43.939999</td>\n      <td>29384600.0</td>\n      <td>40.387074</td>\n    </tr>\n  </tbody>\n</table>\n</div>"
     },
     "metadata": {},
     "output_type": "execute_result",
     "execution_count": 20
    }
   ],
   "source": [
    "microsoft.head()"
   ],
   "metadata": {
    "collapsed": false,
    "pycharm": {
     "name": "#%%\n",
     "is_executing": false
    }
   }
  },
  {
   "cell_type": "code",
   "execution_count": 28,
   "outputs": [
    {
     "data": {
      "text/plain": "                  High         Low        Open       Close   Volume  \\\nDate                                                                  \n2015-09-21  549.780029  539.590027  544.330017  548.390015  3283300   \n2015-09-22  543.549988  532.659973  539.710022  538.400024  3841700   \n2015-09-23  541.210022  534.000000  538.299988  536.070007  2237600   \n2015-09-24  534.559998  522.869995  530.549988  533.750000  3501000   \n2015-09-25  542.799988  521.400024  542.570007  524.250000  4031000   \n\n             Adj Close  \nDate                    \n2015-09-21  548.390015  \n2015-09-22  538.400024  \n2015-09-23  536.070007  \n2015-09-24  533.750000  \n2015-09-25  524.250000  ",
      "text/html": "<div>\n<style scoped>\n    .dataframe tbody tr th:only-of-type {\n        vertical-align: middle;\n    }\n\n    .dataframe tbody tr th {\n        vertical-align: top;\n    }\n\n    .dataframe thead th {\n        text-align: right;\n    }\n</style>\n<table border=\"1\" class=\"dataframe\">\n  <thead>\n    <tr style=\"text-align: right;\">\n      <th></th>\n      <th>High</th>\n      <th>Low</th>\n      <th>Open</th>\n      <th>Close</th>\n      <th>Volume</th>\n      <th>Adj Close</th>\n    </tr>\n    <tr>\n      <th>Date</th>\n      <th></th>\n      <th></th>\n      <th></th>\n      <th></th>\n      <th></th>\n      <th></th>\n    </tr>\n  </thead>\n  <tbody>\n    <tr>\n      <td>2015-09-21</td>\n      <td>549.780029</td>\n      <td>539.590027</td>\n      <td>544.330017</td>\n      <td>548.390015</td>\n      <td>3283300</td>\n      <td>548.390015</td>\n    </tr>\n    <tr>\n      <td>2015-09-22</td>\n      <td>543.549988</td>\n      <td>532.659973</td>\n      <td>539.710022</td>\n      <td>538.400024</td>\n      <td>3841700</td>\n      <td>538.400024</td>\n    </tr>\n    <tr>\n      <td>2015-09-23</td>\n      <td>541.210022</td>\n      <td>534.000000</td>\n      <td>538.299988</td>\n      <td>536.070007</td>\n      <td>2237600</td>\n      <td>536.070007</td>\n    </tr>\n    <tr>\n      <td>2015-09-24</td>\n      <td>534.559998</td>\n      <td>522.869995</td>\n      <td>530.549988</td>\n      <td>533.750000</td>\n      <td>3501000</td>\n      <td>533.750000</td>\n    </tr>\n    <tr>\n      <td>2015-09-25</td>\n      <td>542.799988</td>\n      <td>521.400024</td>\n      <td>542.570007</td>\n      <td>524.250000</td>\n      <td>4031000</td>\n      <td>524.250000</td>\n    </tr>\n  </tbody>\n</table>\n</div>"
     },
     "metadata": {},
     "output_type": "execute_result",
     "execution_count": 28
    }
   ],
   "source": [
    "amazon.head()\n",
    "\n"
   ],
   "metadata": {
    "collapsed": false,
    "pycharm": {
     "name": "#%%\n",
     "is_executing": false
    }
   }
  },
  {
   "cell_type": "code",
   "execution_count": 31,
   "outputs": [],
   "source": [
    "amazon.to_csv('./OpenSesame/data/AMZN.csv')\n",
    "alibaba.to_csv('./OpenSesame/data/BABA.csv')\n",
    "microsoft.to_csv('./OpenSesame/data/MSFT.csv')\n",
    "google.to_csv('./OpenSesame/data/AMZN.csv')\n",
    "facebook.to_csv('./OpenSesame/data/FB.csv')"
   ],
   "metadata": {
    "collapsed": false,
    "pycharm": {
     "name": "#%%\n",
     "is_executing": false
    }
   }
  },
  {
   "cell_type": "code",
   "execution_count": 26,
   "outputs": [
    {
     "name": "stdout",
     "text": [
      "F:\\JupyterProject\n"
     ],
     "output_type": "stream"
    }
   ],
   "source": [
    "import os\n",
    "path1=os.path.abspath('.')\n",
    "print(path1)\n"
   ],
   "metadata": {
    "collapsed": false,
    "pycharm": {
     "name": "#%%\n",
     "is_executing": false
    }
   }
  }
 ],
 "metadata": {
  "kernelspec": {
   "display_name": "Python 3",
   "language": "python",
   "name": "python3"
  },
  "language_info": {
   "codemirror_mode": {
    "name": "ipython",
    "version": 2
   },
   "file_extension": ".py",
   "mimetype": "text/x-python",
   "name": "python",
   "nbconvert_exporter": "python",
   "pygments_lexer": "ipython2",
   "version": "2.7.6"
  },
  "pycharm": {
   "stem_cell": {
    "cell_type": "raw",
    "source": [],
    "metadata": {
     "collapsed": false
    }
   }
  }
 },
 "nbformat": 4,
 "nbformat_minor": 0
}