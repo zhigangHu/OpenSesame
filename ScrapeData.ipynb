{
 "cells": [
  {
   "cell_type": "code",
   "execution_count": 26,
   "metadata": {
    "collapsed": true,
    "pycharm": {
     "is_executing": false
    }
   },
   "outputs": [],
   "source": [
    "import numpy as np\n",
    "import pandas as pd\n",
    "from pandas import Series,DataFrame\n",
    "\n",
    "import pandas_datareader as pdr\n",
    "\n",
    "import matplotlib.pyplot as plt\n",
    "import seaborn as sns\n",
    "\n",
    "\n",
    "from datetime import datetime\n"
   ]
  },
  {
   "cell_type": "code",
   "execution_count": 27,
   "outputs": [
    {
     "data": {
      "text/plain": "                 High        Low       Open      Close    Volume  Adj Close\nDate                                                                       \n2015-09-21  66.400002  62.959999  65.379997  63.900002  22355100  63.900002\n2015-09-22  63.270000  61.580002  62.939999  61.900002  14897900  61.900002\n2015-09-23  62.299999  59.680000  61.959999  60.000000  22684600  60.000000\n2015-09-24  60.340000  58.209999  59.419998  59.919998  20645700  59.919998\n2015-09-25  60.840000  58.919998  60.630001  59.240002  17009100  59.240002",
      "text/html": "<div>\n<style scoped>\n    .dataframe tbody tr th:only-of-type {\n        vertical-align: middle;\n    }\n\n    .dataframe tbody tr th {\n        vertical-align: top;\n    }\n\n    .dataframe thead th {\n        text-align: right;\n    }\n</style>\n<table border=\"1\" class=\"dataframe\">\n  <thead>\n    <tr style=\"text-align: right;\">\n      <th></th>\n      <th>High</th>\n      <th>Low</th>\n      <th>Open</th>\n      <th>Close</th>\n      <th>Volume</th>\n      <th>Adj Close</th>\n    </tr>\n    <tr>\n      <th>Date</th>\n      <th></th>\n      <th></th>\n      <th></th>\n      <th></th>\n      <th></th>\n      <th></th>\n    </tr>\n  </thead>\n  <tbody>\n    <tr>\n      <td>2015-09-21</td>\n      <td>66.400002</td>\n      <td>62.959999</td>\n      <td>65.379997</td>\n      <td>63.900002</td>\n      <td>22355100</td>\n      <td>63.900002</td>\n    </tr>\n    <tr>\n      <td>2015-09-22</td>\n      <td>63.270000</td>\n      <td>61.580002</td>\n      <td>62.939999</td>\n      <td>61.900002</td>\n      <td>14897900</td>\n      <td>61.900002</td>\n    </tr>\n    <tr>\n      <td>2015-09-23</td>\n      <td>62.299999</td>\n      <td>59.680000</td>\n      <td>61.959999</td>\n      <td>60.000000</td>\n      <td>22684600</td>\n      <td>60.000000</td>\n    </tr>\n    <tr>\n      <td>2015-09-24</td>\n      <td>60.340000</td>\n      <td>58.209999</td>\n      <td>59.419998</td>\n      <td>59.919998</td>\n      <td>20645700</td>\n      <td>59.919998</td>\n    </tr>\n    <tr>\n      <td>2015-09-25</td>\n      <td>60.840000</td>\n      <td>58.919998</td>\n      <td>60.630001</td>\n      <td>59.240002</td>\n      <td>17009100</td>\n      <td>59.240002</td>\n    </tr>\n  </tbody>\n</table>\n</div>"
     },
     "metadata": {},
     "output_type": "execute_result",
     "execution_count": 27
    }
   ],
   "source": [
    "start=datetime(2015,9,20)\n",
    "alibaba=pdr.get_data_yahoo('BABA',start=start)\n",
    "amazon=pdr.get_data_yahoo('AMZN',start=start)\n",
    "apple=pdr.get_data_yahoo('AAPL',start=start)\n",
    "google=pdr.get_data_yahoo('GOOG',start=start)\n",
    "microsoft=pdr.get_data_yahoo('MSFT',start=start)\n",
    "facebook=pdr.get_data_yahoo('FB',start=start)\n",
    "\n",
    "\n",
    "alibaba.head()"
   ],
   "metadata": {
    "collapsed": false,
    "pycharm": {
     "name": "#%%\n",
     "is_executing": false
    }
   }
  },
  {
   "cell_type": "code",
   "execution_count": 28,
   "outputs": [
    {
     "data": {
      "text/plain": "                 High        Low       Open      Close    Volume  Adj Close\nDate                                                                       \n2015-09-21  66.400002  62.959999  65.379997  63.900002  22355100  63.900002\n2015-09-22  63.270000  61.580002  62.939999  61.900002  14897900  61.900002\n2015-09-23  62.299999  59.680000  61.959999  60.000000  22684600  60.000000\n2015-09-24  60.340000  58.209999  59.419998  59.919998  20645700  59.919998\n2015-09-25  60.840000  58.919998  60.630001  59.240002  17009100  59.240002",
      "text/html": "<div>\n<style scoped>\n    .dataframe tbody tr th:only-of-type {\n        vertical-align: middle;\n    }\n\n    .dataframe tbody tr th {\n        vertical-align: top;\n    }\n\n    .dataframe thead th {\n        text-align: right;\n    }\n</style>\n<table border=\"1\" class=\"dataframe\">\n  <thead>\n    <tr style=\"text-align: right;\">\n      <th></th>\n      <th>High</th>\n      <th>Low</th>\n      <th>Open</th>\n      <th>Close</th>\n      <th>Volume</th>\n      <th>Adj Close</th>\n    </tr>\n    <tr>\n      <th>Date</th>\n      <th></th>\n      <th></th>\n      <th></th>\n      <th></th>\n      <th></th>\n      <th></th>\n    </tr>\n  </thead>\n  <tbody>\n    <tr>\n      <td>2015-09-21</td>\n      <td>66.400002</td>\n      <td>62.959999</td>\n      <td>65.379997</td>\n      <td>63.900002</td>\n      <td>22355100</td>\n      <td>63.900002</td>\n    </tr>\n    <tr>\n      <td>2015-09-22</td>\n      <td>63.270000</td>\n      <td>61.580002</td>\n      <td>62.939999</td>\n      <td>61.900002</td>\n      <td>14897900</td>\n      <td>61.900002</td>\n    </tr>\n    <tr>\n      <td>2015-09-23</td>\n      <td>62.299999</td>\n      <td>59.680000</td>\n      <td>61.959999</td>\n      <td>60.000000</td>\n      <td>22684600</td>\n      <td>60.000000</td>\n    </tr>\n    <tr>\n      <td>2015-09-24</td>\n      <td>60.340000</td>\n      <td>58.209999</td>\n      <td>59.419998</td>\n      <td>59.919998</td>\n      <td>20645700</td>\n      <td>59.919998</td>\n    </tr>\n    <tr>\n      <td>2015-09-25</td>\n      <td>60.840000</td>\n      <td>58.919998</td>\n      <td>60.630001</td>\n      <td>59.240002</td>\n      <td>17009100</td>\n      <td>59.240002</td>\n    </tr>\n  </tbody>\n</table>\n</div>"
     },
     "metadata": {},
     "output_type": "execute_result",
     "execution_count": 28
    }
   ],
   "source": [
    "alibaba.head()\n"
   ],
   "metadata": {
    "collapsed": false,
    "pycharm": {
     "name": "#%%\n",
     "is_executing": false
    }
   }
  },
  {
   "cell_type": "code",
   "execution_count": 29,
   "outputs": [
    {
     "data": {
      "text/plain": "                  High         Low        Open       Close   Volume  \\\nDate                                                                  \n2015-09-21  549.780029  539.590027  544.330017  548.390015  3283300   \n2015-09-22  543.549988  532.659973  539.710022  538.400024  3841700   \n2015-09-23  541.210022  534.000000  538.299988  536.070007  2237600   \n2015-09-24  534.559998  522.869995  530.549988  533.750000  3501000   \n2015-09-25  542.799988  521.400024  542.570007  524.250000  4031000   \n\n             Adj Close  \nDate                    \n2015-09-21  548.390015  \n2015-09-22  538.400024  \n2015-09-23  536.070007  \n2015-09-24  533.750000  \n2015-09-25  524.250000  ",
      "text/html": "<div>\n<style scoped>\n    .dataframe tbody tr th:only-of-type {\n        vertical-align: middle;\n    }\n\n    .dataframe tbody tr th {\n        vertical-align: top;\n    }\n\n    .dataframe thead th {\n        text-align: right;\n    }\n</style>\n<table border=\"1\" class=\"dataframe\">\n  <thead>\n    <tr style=\"text-align: right;\">\n      <th></th>\n      <th>High</th>\n      <th>Low</th>\n      <th>Open</th>\n      <th>Close</th>\n      <th>Volume</th>\n      <th>Adj Close</th>\n    </tr>\n    <tr>\n      <th>Date</th>\n      <th></th>\n      <th></th>\n      <th></th>\n      <th></th>\n      <th></th>\n      <th></th>\n    </tr>\n  </thead>\n  <tbody>\n    <tr>\n      <td>2015-09-21</td>\n      <td>549.780029</td>\n      <td>539.590027</td>\n      <td>544.330017</td>\n      <td>548.390015</td>\n      <td>3283300</td>\n      <td>548.390015</td>\n    </tr>\n    <tr>\n      <td>2015-09-22</td>\n      <td>543.549988</td>\n      <td>532.659973</td>\n      <td>539.710022</td>\n      <td>538.400024</td>\n      <td>3841700</td>\n      <td>538.400024</td>\n    </tr>\n    <tr>\n      <td>2015-09-23</td>\n      <td>541.210022</td>\n      <td>534.000000</td>\n      <td>538.299988</td>\n      <td>536.070007</td>\n      <td>2237600</td>\n      <td>536.070007</td>\n    </tr>\n    <tr>\n      <td>2015-09-24</td>\n      <td>534.559998</td>\n      <td>522.869995</td>\n      <td>530.549988</td>\n      <td>533.750000</td>\n      <td>3501000</td>\n      <td>533.750000</td>\n    </tr>\n    <tr>\n      <td>2015-09-25</td>\n      <td>542.799988</td>\n      <td>521.400024</td>\n      <td>542.570007</td>\n      <td>524.250000</td>\n      <td>4031000</td>\n      <td>524.250000</td>\n    </tr>\n  </tbody>\n</table>\n</div>"
     },
     "metadata": {},
     "output_type": "execute_result",
     "execution_count": 29
    }
   ],
   "source": [
    "amazon.head()\n",
    "\n"
   ],
   "metadata": {
    "collapsed": false,
    "pycharm": {
     "name": "#%%\n",
     "is_executing": false
    }
   }
  },
  {
   "cell_type": "code",
   "execution_count": 30,
   "outputs": [],
   "source": [
    "alibaba.to_csv('OpenSesame/data/BABA.csv')\n",
    "amazon.to_csv('OpenSesame/data/AMZN.csv')\n",
    "google.to_csv('OpenSesame/data/GOOG.csv')\n",
    "microsoft.to_csv('OpenSesame/data/MSFT.csv')\n",
    "facebook.to_csv('OpenSesame/data/FB.csv')"
   ],
   "metadata": {
    "collapsed": false,
    "pycharm": {
     "name": "#%%\n",
     "is_executing": false
    }
   }
  },
  {
   "cell_type": "code",
   "execution_count": 31,
   "outputs": [
    {
     "data": {
      "text/plain": "                  High         Low        Open       Close   Volume  \\\nDate                                                                  \n2015-09-21  636.489990  625.940002  634.400024  635.440002  1788500   \n2015-09-22  627.549988  615.429993  627.000000  622.690002  2562900   \n2015-09-23  628.929993  620.000000  622.049988  622.359985  1470900   \n2015-09-24  627.320007  612.400024  616.640015  625.799988  2240100   \n2015-09-25  629.770020  611.000000  629.770020  611.969971  2174000   \n\n             Adj Close  \nDate                    \n2015-09-21  635.440002  \n2015-09-22  622.690002  \n2015-09-23  622.359985  \n2015-09-24  625.799988  \n2015-09-25  611.969971  ",
      "text/html": "<div>\n<style scoped>\n    .dataframe tbody tr th:only-of-type {\n        vertical-align: middle;\n    }\n\n    .dataframe tbody tr th {\n        vertical-align: top;\n    }\n\n    .dataframe thead th {\n        text-align: right;\n    }\n</style>\n<table border=\"1\" class=\"dataframe\">\n  <thead>\n    <tr style=\"text-align: right;\">\n      <th></th>\n      <th>High</th>\n      <th>Low</th>\n      <th>Open</th>\n      <th>Close</th>\n      <th>Volume</th>\n      <th>Adj Close</th>\n    </tr>\n    <tr>\n      <th>Date</th>\n      <th></th>\n      <th></th>\n      <th></th>\n      <th></th>\n      <th></th>\n      <th></th>\n    </tr>\n  </thead>\n  <tbody>\n    <tr>\n      <td>2015-09-21</td>\n      <td>636.489990</td>\n      <td>625.940002</td>\n      <td>634.400024</td>\n      <td>635.440002</td>\n      <td>1788500</td>\n      <td>635.440002</td>\n    </tr>\n    <tr>\n      <td>2015-09-22</td>\n      <td>627.549988</td>\n      <td>615.429993</td>\n      <td>627.000000</td>\n      <td>622.690002</td>\n      <td>2562900</td>\n      <td>622.690002</td>\n    </tr>\n    <tr>\n      <td>2015-09-23</td>\n      <td>628.929993</td>\n      <td>620.000000</td>\n      <td>622.049988</td>\n      <td>622.359985</td>\n      <td>1470900</td>\n      <td>622.359985</td>\n    </tr>\n    <tr>\n      <td>2015-09-24</td>\n      <td>627.320007</td>\n      <td>612.400024</td>\n      <td>616.640015</td>\n      <td>625.799988</td>\n      <td>2240100</td>\n      <td>625.799988</td>\n    </tr>\n    <tr>\n      <td>2015-09-25</td>\n      <td>629.770020</td>\n      <td>611.000000</td>\n      <td>629.770020</td>\n      <td>611.969971</td>\n      <td>2174000</td>\n      <td>611.969971</td>\n    </tr>\n  </tbody>\n</table>\n</div>"
     },
     "metadata": {},
     "output_type": "execute_result",
     "execution_count": 31
    }
   ],
   "source": [
    "google.head()"
   ],
   "metadata": {
    "collapsed": false,
    "pycharm": {
     "name": "#%%\n",
     "is_executing": false
    }
   }
  },
  {
   "cell_type": "code",
   "execution_count": 32,
   "outputs": [
    {
     "data": {
      "text/plain": "                 High        Low       Open      Close      Volume  Adj Close\nDate                                                                         \n2015-09-21  44.470001  43.599998  43.619999  44.110001  26177200.0  40.405846\n2015-09-22  44.049999  43.310001  43.380001  43.900002  28085900.0  40.213478\n2015-09-23  44.169998  43.509998  43.930000  43.869999  17145200.0  40.185997\n2015-09-24  44.130001  43.270000  43.450001  43.910000  27905600.0  40.222645\n2015-09-25  44.730000  43.759998  44.480000  43.939999  29384600.0  40.250114",
      "text/html": "<div>\n<style scoped>\n    .dataframe tbody tr th:only-of-type {\n        vertical-align: middle;\n    }\n\n    .dataframe tbody tr th {\n        vertical-align: top;\n    }\n\n    .dataframe thead th {\n        text-align: right;\n    }\n</style>\n<table border=\"1\" class=\"dataframe\">\n  <thead>\n    <tr style=\"text-align: right;\">\n      <th></th>\n      <th>High</th>\n      <th>Low</th>\n      <th>Open</th>\n      <th>Close</th>\n      <th>Volume</th>\n      <th>Adj Close</th>\n    </tr>\n    <tr>\n      <th>Date</th>\n      <th></th>\n      <th></th>\n      <th></th>\n      <th></th>\n      <th></th>\n      <th></th>\n    </tr>\n  </thead>\n  <tbody>\n    <tr>\n      <td>2015-09-21</td>\n      <td>44.470001</td>\n      <td>43.599998</td>\n      <td>43.619999</td>\n      <td>44.110001</td>\n      <td>26177200.0</td>\n      <td>40.405846</td>\n    </tr>\n    <tr>\n      <td>2015-09-22</td>\n      <td>44.049999</td>\n      <td>43.310001</td>\n      <td>43.380001</td>\n      <td>43.900002</td>\n      <td>28085900.0</td>\n      <td>40.213478</td>\n    </tr>\n    <tr>\n      <td>2015-09-23</td>\n      <td>44.169998</td>\n      <td>43.509998</td>\n      <td>43.930000</td>\n      <td>43.869999</td>\n      <td>17145200.0</td>\n      <td>40.185997</td>\n    </tr>\n    <tr>\n      <td>2015-09-24</td>\n      <td>44.130001</td>\n      <td>43.270000</td>\n      <td>43.450001</td>\n      <td>43.910000</td>\n      <td>27905600.0</td>\n      <td>40.222645</td>\n    </tr>\n    <tr>\n      <td>2015-09-25</td>\n      <td>44.730000</td>\n      <td>43.759998</td>\n      <td>44.480000</td>\n      <td>43.939999</td>\n      <td>29384600.0</td>\n      <td>40.250114</td>\n    </tr>\n  </tbody>\n</table>\n</div>"
     },
     "metadata": {},
     "output_type": "execute_result",
     "execution_count": 32
    }
   ],
   "source": [
    "microsoft.head()"
   ],
   "metadata": {
    "collapsed": false,
    "pycharm": {
     "name": "#%%\n",
     "is_executing": false
    }
   }
  },
  {
   "cell_type": "code",
   "execution_count": 33,
   "outputs": [
    {
     "data": {
      "text/plain": "                  High         Low        Open       Close   Volume  \\\nDate                                                                  \n2015-09-21  549.780029  539.590027  544.330017  548.390015  3283300   \n2015-09-22  543.549988  532.659973  539.710022  538.400024  3841700   \n2015-09-23  541.210022  534.000000  538.299988  536.070007  2237600   \n2015-09-24  534.559998  522.869995  530.549988  533.750000  3501000   \n2015-09-25  542.799988  521.400024  542.570007  524.250000  4031000   \n\n             Adj Close  \nDate                    \n2015-09-21  548.390015  \n2015-09-22  538.400024  \n2015-09-23  536.070007  \n2015-09-24  533.750000  \n2015-09-25  524.250000  ",
      "text/html": "<div>\n<style scoped>\n    .dataframe tbody tr th:only-of-type {\n        vertical-align: middle;\n    }\n\n    .dataframe tbody tr th {\n        vertical-align: top;\n    }\n\n    .dataframe thead th {\n        text-align: right;\n    }\n</style>\n<table border=\"1\" class=\"dataframe\">\n  <thead>\n    <tr style=\"text-align: right;\">\n      <th></th>\n      <th>High</th>\n      <th>Low</th>\n      <th>Open</th>\n      <th>Close</th>\n      <th>Volume</th>\n      <th>Adj Close</th>\n    </tr>\n    <tr>\n      <th>Date</th>\n      <th></th>\n      <th></th>\n      <th></th>\n      <th></th>\n      <th></th>\n      <th></th>\n    </tr>\n  </thead>\n  <tbody>\n    <tr>\n      <td>2015-09-21</td>\n      <td>549.780029</td>\n      <td>539.590027</td>\n      <td>544.330017</td>\n      <td>548.390015</td>\n      <td>3283300</td>\n      <td>548.390015</td>\n    </tr>\n    <tr>\n      <td>2015-09-22</td>\n      <td>543.549988</td>\n      <td>532.659973</td>\n      <td>539.710022</td>\n      <td>538.400024</td>\n      <td>3841700</td>\n      <td>538.400024</td>\n    </tr>\n    <tr>\n      <td>2015-09-23</td>\n      <td>541.210022</td>\n      <td>534.000000</td>\n      <td>538.299988</td>\n      <td>536.070007</td>\n      <td>2237600</td>\n      <td>536.070007</td>\n    </tr>\n    <tr>\n      <td>2015-09-24</td>\n      <td>534.559998</td>\n      <td>522.869995</td>\n      <td>530.549988</td>\n      <td>533.750000</td>\n      <td>3501000</td>\n      <td>533.750000</td>\n    </tr>\n    <tr>\n      <td>2015-09-25</td>\n      <td>542.799988</td>\n      <td>521.400024</td>\n      <td>542.570007</td>\n      <td>524.250000</td>\n      <td>4031000</td>\n      <td>524.250000</td>\n    </tr>\n  </tbody>\n</table>\n</div>"
     },
     "metadata": {},
     "output_type": "execute_result",
     "execution_count": 33
    }
   ],
   "source": [
    "amazon.head()\n",
    "\n"
   ],
   "metadata": {
    "collapsed": false,
    "pycharm": {
     "name": "#%%\n",
     "is_executing": false
    }
   }
  },
  {
   "cell_type": "code",
   "execution_count": 33,
   "outputs": [],
   "source": [],
   "metadata": {
    "collapsed": false,
    "pycharm": {
     "name": "#%%\n",
     "is_executing": false
    }
   }
  },
  {
   "cell_type": "code",
   "execution_count": 34,
   "outputs": [
    {
     "name": "stdout",
     "text": [
      "F:\\JupyterProject\n"
     ],
     "output_type": "stream"
    }
   ],
   "source": [
    "import os\n",
    "path1=os.path.abspath('.')\n",
    "print(path1)\n"
   ],
   "metadata": {
    "collapsed": false,
    "pycharm": {
     "name": "#%%\n",
     "is_executing": false
    }
   }
  }
 ],
 "metadata": {
  "kernelspec": {
   "display_name": "Python 3",
   "language": "python",
   "name": "python3"
  },
  "language_info": {
   "codemirror_mode": {
    "name": "ipython",
    "version": 2
   },
   "file_extension": ".py",
   "mimetype": "text/x-python",
   "name": "python",
   "nbconvert_exporter": "python",
   "pygments_lexer": "ipython2",
   "version": "2.7.6"
  },
  "pycharm": {
   "stem_cell": {
    "cell_type": "raw",
    "source": [],
    "metadata": {
     "collapsed": false
    }
   }
  }
 },
 "nbformat": 4,
 "nbformat_minor": 0
}