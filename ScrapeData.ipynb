{
 "cells": [
  {
   "cell_type": "code",
   "execution_count": 1,
   "metadata": {
    "collapsed": true,
    "pycharm": {
     "is_executing": false
    }
   },
   "outputs": [],
   "source": [
    "import numpy as np\n",
    "import pandas as pd\n",
    "from pandas import Series, DataFrame, DatetimeIndex\n",
    "\n",
    "import pandas_datareader as pdr\n",
    "\n",
    "import matplotlib.pyplot as plt\n",
    "import seaborn as sns\n",
    "\n",
    "\n",
    "from datetime import datetime\n"
   ]
  },
  {
   "cell_type": "code",
   "execution_count": 2,
   "outputs": [
    {
     "data": {
      "text/plain": "                 High        Low       Open      Close    Volume  Adj Close\nDate                                                                       \n2015-09-21  66.400002  62.959999  65.379997  63.900002  22355100  63.900002\n2015-09-22  63.270000  61.580002  62.939999  61.900002  14897900  61.900002\n2015-09-23  62.299999  59.680000  61.959999  60.000000  22684600  60.000000\n2015-09-24  60.340000  58.209999  59.419998  59.919998  20645700  59.919998\n2015-09-25  60.840000  58.919998  60.630001  59.240002  17009100  59.240002",
      "text/html": "<div>\n<style scoped>\n    .dataframe tbody tr th:only-of-type {\n        vertical-align: middle;\n    }\n\n    .dataframe tbody tr th {\n        vertical-align: top;\n    }\n\n    .dataframe thead th {\n        text-align: right;\n    }\n</style>\n<table border=\"1\" class=\"dataframe\">\n  <thead>\n    <tr style=\"text-align: right;\">\n      <th></th>\n      <th>High</th>\n      <th>Low</th>\n      <th>Open</th>\n      <th>Close</th>\n      <th>Volume</th>\n      <th>Adj Close</th>\n    </tr>\n    <tr>\n      <th>Date</th>\n      <th></th>\n      <th></th>\n      <th></th>\n      <th></th>\n      <th></th>\n      <th></th>\n    </tr>\n  </thead>\n  <tbody>\n    <tr>\n      <td>2015-09-21</td>\n      <td>66.400002</td>\n      <td>62.959999</td>\n      <td>65.379997</td>\n      <td>63.900002</td>\n      <td>22355100</td>\n      <td>63.900002</td>\n    </tr>\n    <tr>\n      <td>2015-09-22</td>\n      <td>63.270000</td>\n      <td>61.580002</td>\n      <td>62.939999</td>\n      <td>61.900002</td>\n      <td>14897900</td>\n      <td>61.900002</td>\n    </tr>\n    <tr>\n      <td>2015-09-23</td>\n      <td>62.299999</td>\n      <td>59.680000</td>\n      <td>61.959999</td>\n      <td>60.000000</td>\n      <td>22684600</td>\n      <td>60.000000</td>\n    </tr>\n    <tr>\n      <td>2015-09-24</td>\n      <td>60.340000</td>\n      <td>58.209999</td>\n      <td>59.419998</td>\n      <td>59.919998</td>\n      <td>20645700</td>\n      <td>59.919998</td>\n    </tr>\n    <tr>\n      <td>2015-09-25</td>\n      <td>60.840000</td>\n      <td>58.919998</td>\n      <td>60.630001</td>\n      <td>59.240002</td>\n      <td>17009100</td>\n      <td>59.240002</td>\n    </tr>\n  </tbody>\n</table>\n</div>"
     },
     "metadata": {},
     "output_type": "execute_result",
     "execution_count": 2
    }
   ],
   "source": [
    "start=datetime(2015,9,20)\n",
    "alibaba=pdr.get_data_yahoo('BABA',start=start)\n",
    "amazon=pdr.get_data_yahoo('AMZN',start=start)\n",
    "\n",
    "google=pdr.get_data_yahoo('GOOG',start=start)\n",
    "microsoft=pdr.get_data_yahoo('MSFT',start=start)\n",
    "facebook=pdr.get_data_yahoo('FB',start=start)\n",
    "\n",
    "\n",
    "alibaba.head()"
   ],
   "metadata": {
    "collapsed": false,
    "pycharm": {
     "name": "#%%\n",
     "is_executing": false
    }
   }
  },
  {
   "cell_type": "code",
   "execution_count": 3,
   "outputs": [
    {
     "data": {
      "text/plain": "                 High        Low       Open      Close    Volume  Adj Close\nDate                                                                       \n2015-09-21  66.400002  62.959999  65.379997  63.900002  22355100  63.900002\n2015-09-22  63.270000  61.580002  62.939999  61.900002  14897900  61.900002\n2015-09-23  62.299999  59.680000  61.959999  60.000000  22684600  60.000000\n2015-09-24  60.340000  58.209999  59.419998  59.919998  20645700  59.919998\n2015-09-25  60.840000  58.919998  60.630001  59.240002  17009100  59.240002",
      "text/html": "<div>\n<style scoped>\n    .dataframe tbody tr th:only-of-type {\n        vertical-align: middle;\n    }\n\n    .dataframe tbody tr th {\n        vertical-align: top;\n    }\n\n    .dataframe thead th {\n        text-align: right;\n    }\n</style>\n<table border=\"1\" class=\"dataframe\">\n  <thead>\n    <tr style=\"text-align: right;\">\n      <th></th>\n      <th>High</th>\n      <th>Low</th>\n      <th>Open</th>\n      <th>Close</th>\n      <th>Volume</th>\n      <th>Adj Close</th>\n    </tr>\n    <tr>\n      <th>Date</th>\n      <th></th>\n      <th></th>\n      <th></th>\n      <th></th>\n      <th></th>\n      <th></th>\n    </tr>\n  </thead>\n  <tbody>\n    <tr>\n      <td>2015-09-21</td>\n      <td>66.400002</td>\n      <td>62.959999</td>\n      <td>65.379997</td>\n      <td>63.900002</td>\n      <td>22355100</td>\n      <td>63.900002</td>\n    </tr>\n    <tr>\n      <td>2015-09-22</td>\n      <td>63.270000</td>\n      <td>61.580002</td>\n      <td>62.939999</td>\n      <td>61.900002</td>\n      <td>14897900</td>\n      <td>61.900002</td>\n    </tr>\n    <tr>\n      <td>2015-09-23</td>\n      <td>62.299999</td>\n      <td>59.680000</td>\n      <td>61.959999</td>\n      <td>60.000000</td>\n      <td>22684600</td>\n      <td>60.000000</td>\n    </tr>\n    <tr>\n      <td>2015-09-24</td>\n      <td>60.340000</td>\n      <td>58.209999</td>\n      <td>59.419998</td>\n      <td>59.919998</td>\n      <td>20645700</td>\n      <td>59.919998</td>\n    </tr>\n    <tr>\n      <td>2015-09-25</td>\n      <td>60.840000</td>\n      <td>58.919998</td>\n      <td>60.630001</td>\n      <td>59.240002</td>\n      <td>17009100</td>\n      <td>59.240002</td>\n    </tr>\n  </tbody>\n</table>\n</div>"
     },
     "metadata": {},
     "output_type": "execute_result",
     "execution_count": 3
    }
   ],
   "source": [
    "alibaba.head()\n"
   ],
   "metadata": {
    "collapsed": false,
    "pycharm": {
     "name": "#%%\n",
     "is_executing": false
    }
   }
  },
  {
   "cell_type": "code",
   "execution_count": 4,
   "outputs": [
    {
     "data": {
      "text/plain": "                  High         Low        Open       Close   Volume  \\\nDate                                                                  \n2015-09-21  549.780029  539.590027  544.330017  548.390015  3283300   \n2015-09-22  543.549988  532.659973  539.710022  538.400024  3841700   \n2015-09-23  541.210022  534.000000  538.299988  536.070007  2237600   \n2015-09-24  534.559998  522.869995  530.549988  533.750000  3501000   \n2015-09-25  542.799988  521.400024  542.570007  524.250000  4031000   \n\n             Adj Close  \nDate                    \n2015-09-21  548.390015  \n2015-09-22  538.400024  \n2015-09-23  536.070007  \n2015-09-24  533.750000  \n2015-09-25  524.250000  ",
      "text/html": "<div>\n<style scoped>\n    .dataframe tbody tr th:only-of-type {\n        vertical-align: middle;\n    }\n\n    .dataframe tbody tr th {\n        vertical-align: top;\n    }\n\n    .dataframe thead th {\n        text-align: right;\n    }\n</style>\n<table border=\"1\" class=\"dataframe\">\n  <thead>\n    <tr style=\"text-align: right;\">\n      <th></th>\n      <th>High</th>\n      <th>Low</th>\n      <th>Open</th>\n      <th>Close</th>\n      <th>Volume</th>\n      <th>Adj Close</th>\n    </tr>\n    <tr>\n      <th>Date</th>\n      <th></th>\n      <th></th>\n      <th></th>\n      <th></th>\n      <th></th>\n      <th></th>\n    </tr>\n  </thead>\n  <tbody>\n    <tr>\n      <td>2015-09-21</td>\n      <td>549.780029</td>\n      <td>539.590027</td>\n      <td>544.330017</td>\n      <td>548.390015</td>\n      <td>3283300</td>\n      <td>548.390015</td>\n    </tr>\n    <tr>\n      <td>2015-09-22</td>\n      <td>543.549988</td>\n      <td>532.659973</td>\n      <td>539.710022</td>\n      <td>538.400024</td>\n      <td>3841700</td>\n      <td>538.400024</td>\n    </tr>\n    <tr>\n      <td>2015-09-23</td>\n      <td>541.210022</td>\n      <td>534.000000</td>\n      <td>538.299988</td>\n      <td>536.070007</td>\n      <td>2237600</td>\n      <td>536.070007</td>\n    </tr>\n    <tr>\n      <td>2015-09-24</td>\n      <td>534.559998</td>\n      <td>522.869995</td>\n      <td>530.549988</td>\n      <td>533.750000</td>\n      <td>3501000</td>\n      <td>533.750000</td>\n    </tr>\n    <tr>\n      <td>2015-09-25</td>\n      <td>542.799988</td>\n      <td>521.400024</td>\n      <td>542.570007</td>\n      <td>524.250000</td>\n      <td>4031000</td>\n      <td>524.250000</td>\n    </tr>\n  </tbody>\n</table>\n</div>"
     },
     "metadata": {},
     "output_type": "execute_result",
     "execution_count": 4
    }
   ],
   "source": [
    "amazon.head()\n",
    "\n"
   ],
   "metadata": {
    "collapsed": false,
    "pycharm": {
     "name": "#%%\n",
     "is_executing": false
    }
   }
  },
  {
   "cell_type": "code",
   "execution_count": 5,
   "outputs": [
    {
     "traceback": [
      "\u001b[1;31m---------------------------------------------------------------------------\u001b[0m",
      "\u001b[1;31mFileNotFoundError\u001b[0m                         Traceback (most recent call last)",
      "\u001b[1;32m<ipython-input-5-e5dc76949e1b>\u001b[0m in \u001b[0;36m<module>\u001b[1;34m\u001b[0m\n\u001b[1;32m----> 1\u001b[1;33m \u001b[0malibaba\u001b[0m\u001b[1;33m.\u001b[0m\u001b[0mto_csv\u001b[0m\u001b[1;33m(\u001b[0m\u001b[1;34m'./data/BABA.csv'\u001b[0m\u001b[1;33m)\u001b[0m\u001b[1;33m\u001b[0m\u001b[1;33m\u001b[0m\u001b[0m\n\u001b[0m\u001b[0;32m      2\u001b[0m \u001b[1;33m\u001b[0m\u001b[0m\n\u001b[0;32m      3\u001b[0m \u001b[1;33m\u001b[0m\u001b[0m\n",
      "\u001b[1;32mC:\\Anaconda3\\lib\\site-packages\\pandas\\core\\generic.py\u001b[0m in \u001b[0;36mto_csv\u001b[1;34m(self, path_or_buf, sep, na_rep, float_format, columns, header, index, index_label, mode, encoding, compression, quoting, quotechar, line_terminator, chunksize, date_format, doublequote, escapechar, decimal)\u001b[0m\n\u001b[0;32m   3226\u001b[0m             \u001b[0mdecimal\u001b[0m\u001b[1;33m=\u001b[0m\u001b[0mdecimal\u001b[0m\u001b[1;33m,\u001b[0m\u001b[1;33m\u001b[0m\u001b[1;33m\u001b[0m\u001b[0m\n\u001b[0;32m   3227\u001b[0m         )\n\u001b[1;32m-> 3228\u001b[1;33m         \u001b[0mformatter\u001b[0m\u001b[1;33m.\u001b[0m\u001b[0msave\u001b[0m\u001b[1;33m(\u001b[0m\u001b[1;33m)\u001b[0m\u001b[1;33m\u001b[0m\u001b[1;33m\u001b[0m\u001b[0m\n\u001b[0m\u001b[0;32m   3229\u001b[0m \u001b[1;33m\u001b[0m\u001b[0m\n\u001b[0;32m   3230\u001b[0m         \u001b[1;32mif\u001b[0m \u001b[0mpath_or_buf\u001b[0m \u001b[1;32mis\u001b[0m \u001b[1;32mNone\u001b[0m\u001b[1;33m:\u001b[0m\u001b[1;33m\u001b[0m\u001b[1;33m\u001b[0m\u001b[0m\n",
      "\u001b[1;32mC:\\Anaconda3\\lib\\site-packages\\pandas\\io\\formats\\csvs.py\u001b[0m in \u001b[0;36msave\u001b[1;34m(self)\u001b[0m\n\u001b[0;32m    181\u001b[0m                 \u001b[0mself\u001b[0m\u001b[1;33m.\u001b[0m\u001b[0mmode\u001b[0m\u001b[1;33m,\u001b[0m\u001b[1;33m\u001b[0m\u001b[1;33m\u001b[0m\u001b[0m\n\u001b[0;32m    182\u001b[0m                 \u001b[0mencoding\u001b[0m\u001b[1;33m=\u001b[0m\u001b[0mself\u001b[0m\u001b[1;33m.\u001b[0m\u001b[0mencoding\u001b[0m\u001b[1;33m,\u001b[0m\u001b[1;33m\u001b[0m\u001b[1;33m\u001b[0m\u001b[0m\n\u001b[1;32m--> 183\u001b[1;33m                 \u001b[0mcompression\u001b[0m\u001b[1;33m=\u001b[0m\u001b[0mself\u001b[0m\u001b[1;33m.\u001b[0m\u001b[0mcompression\u001b[0m\u001b[1;33m,\u001b[0m\u001b[1;33m\u001b[0m\u001b[1;33m\u001b[0m\u001b[0m\n\u001b[0m\u001b[0;32m    184\u001b[0m             )\n\u001b[0;32m    185\u001b[0m             \u001b[0mclose\u001b[0m \u001b[1;33m=\u001b[0m \u001b[1;32mTrue\u001b[0m\u001b[1;33m\u001b[0m\u001b[1;33m\u001b[0m\u001b[0m\n",
      "\u001b[1;32mC:\\Anaconda3\\lib\\site-packages\\pandas\\io\\common.py\u001b[0m in \u001b[0;36m_get_handle\u001b[1;34m(path_or_buf, mode, encoding, compression, memory_map, is_text)\u001b[0m\n\u001b[0;32m    397\u001b[0m         \u001b[1;32mif\u001b[0m \u001b[0mencoding\u001b[0m\u001b[1;33m:\u001b[0m\u001b[1;33m\u001b[0m\u001b[1;33m\u001b[0m\u001b[0m\n\u001b[0;32m    398\u001b[0m             \u001b[1;31m# Encoding\u001b[0m\u001b[1;33m\u001b[0m\u001b[1;33m\u001b[0m\u001b[1;33m\u001b[0m\u001b[0m\n\u001b[1;32m--> 399\u001b[1;33m             \u001b[0mf\u001b[0m \u001b[1;33m=\u001b[0m \u001b[0mopen\u001b[0m\u001b[1;33m(\u001b[0m\u001b[0mpath_or_buf\u001b[0m\u001b[1;33m,\u001b[0m \u001b[0mmode\u001b[0m\u001b[1;33m,\u001b[0m \u001b[0mencoding\u001b[0m\u001b[1;33m=\u001b[0m\u001b[0mencoding\u001b[0m\u001b[1;33m,\u001b[0m \u001b[0mnewline\u001b[0m\u001b[1;33m=\u001b[0m\u001b[1;34m\"\"\u001b[0m\u001b[1;33m)\u001b[0m\u001b[1;33m\u001b[0m\u001b[1;33m\u001b[0m\u001b[0m\n\u001b[0m\u001b[0;32m    400\u001b[0m         \u001b[1;32melif\u001b[0m \u001b[0mis_text\u001b[0m\u001b[1;33m:\u001b[0m\u001b[1;33m\u001b[0m\u001b[1;33m\u001b[0m\u001b[0m\n\u001b[0;32m    401\u001b[0m             \u001b[1;31m# No explicit encoding\u001b[0m\u001b[1;33m\u001b[0m\u001b[1;33m\u001b[0m\u001b[1;33m\u001b[0m\u001b[0m\n",
      "\u001b[1;31mFileNotFoundError\u001b[0m: [Errno 2] No such file or directory: './data/BABA.csv'"
     ],
     "ename": "FileNotFoundError",
     "evalue": "[Errno 2] No such file or directory: './data/BABA.csv'",
     "output_type": "error"
    }
   ],
   "source": [
    "alibaba.to_csv('./data/BABA.csv')\n"
   ],
   "metadata": {
    "collapsed": false,
    "pycharm": {
     "name": "#%%\n",
     "is_executing": false
    }
   }
  },
  {
   "cell_type": "code",
   "execution_count": null,
   "outputs": [],
   "source": [
    "google.head()"
   ],
   "metadata": {
    "collapsed": false,
    "pycharm": {
     "name": "#%%\n",
     "is_executing": false
    }
   }
  },
  {
   "cell_type": "code",
   "execution_count": null,
   "outputs": [],
   "source": [
    "microsoft.head()"
   ],
   "metadata": {
    "collapsed": false,
    "pycharm": {
     "name": "#%%\n",
     "is_executing": false
    }
   }
  },
  {
   "cell_type": "code",
   "execution_count": null,
   "outputs": [],
   "source": [
    "amazon.head()\n",
    "\n"
   ],
   "metadata": {
    "collapsed": false,
    "pycharm": {
     "name": "#%%\n",
     "is_executing": false
    }
   }
  },
  {
   "cell_type": "code",
   "execution_count": null,
   "outputs": [],
   "source": [
    "amazon.to_csv('./OpenSesame/data/AMZN.csv')\n",
    "alibaba.to_csv('./OpenSesame/data/BABA.csv')\n",
    "microsoft.to_csv('./OpenSesame/data/MSFT.csv')\n",
    "google.to_csv('./OpenSesame/data/AMZN.csv')\n",
    "facebook.to_csv('./OpenSesame/data/FB.csv')"
   ],
   "metadata": {
    "collapsed": false,
    "pycharm": {
     "name": "#%%\n",
     "is_executing": false
    }
   }
  },
  {
   "cell_type": "code",
   "execution_count": null,
   "outputs": [],
   "source": [
    "apple=pdr.get_data_yahoo('AAPL',start=start)\n",
    "apple.head()"
   ],
   "metadata": {
    "collapsed": false,
    "pycharm": {
     "name": "#%%\n",
     "is_executing": false
    }
   }
  },
  {
   "cell_type": "code",
   "execution_count": null,
   "outputs": [],
   "source": [
    "apple.to_csv('./OpenSesame/data/AAPL.csv')"
   ],
   "metadata": {
    "collapsed": false,
    "pycharm": {
     "name": "#%%\n",
     "is_executing": false
    }
   }
  },
  {
   "cell_type": "code",
   "execution_count": null,
   "outputs": [],
   "source": [
    "alibaba['']\n"
   ],
   "metadata": {
    "collapsed": false,
    "pycharm": {
     "name": "#%%\n",
     "is_executing": false
    }
   }
  },
  {
   "cell_type": "code",
   "execution_count": 6,
   "outputs": [],
   "source": [
    "rng=pd.date_range('2016-07-01',periods=10,freq='3D')\n",
    "\n",
    "time=pd.Series(np.random.randn(20),index=pd.date_range(datetime(2016,1,1),periods=20))\n",
    "\n"
   ],
   "metadata": {
    "collapsed": false,
    "pycharm": {
     "name": "#%%TIMES #2016 Jul 1 \n",
     "is_executing": false
    }
   }
  },
  {
   "cell_type": "code",
   "execution_count": 7,
   "outputs": [
    {
     "data": {
      "text/plain": "2016-01-10    0.943794\n2016-01-11   -0.895935\n2016-01-12    1.396864\n2016-01-13   -0.193500\n2016-01-14    1.321954\n2016-01-15   -1.519586\n2016-01-16    0.244518\n2016-01-17    0.927106\n2016-01-18    0.066415\n2016-01-19   -0.398568\n2016-01-20   -0.302974\nFreq: D, dtype: float64"
     },
     "metadata": {},
     "output_type": "execute_result",
     "execution_count": 7
    }
   ],
   "source": [
    "time.truncate(before='2016-1-10')\n",
    "\n",
    "\n"
   ],
   "metadata": {
    "collapsed": false,
    "pycharm": {
     "name": "#%% truncate Filter, before the date'2016-1-10'\n",
     "is_executing": false
    }
   }
  },
  {
   "cell_type": "code",
   "execution_count": 8,
   "outputs": [
    {
     "data": {
      "text/plain": "2016-01-01   -1.014329\n2016-01-02   -0.918155\n2016-01-03    0.503914\n2016-01-04    1.370703\n2016-01-05    0.939695\n2016-01-06    0.622939\n2016-01-07    0.909614\n2016-01-08    0.293327\n2016-01-09   -0.359048\n2016-01-10    0.943794\nFreq: D, dtype: float64"
     },
     "metadata": {},
     "output_type": "execute_result",
     "execution_count": 8
    }
   ],
   "source": [
    "time.truncate(after='2016-1-10')\n",
    "\n",
    "\n"
   ],
   "metadata": {
    "collapsed": false,
    "pycharm": {
     "name": "#%% Truncat Filter: after the date'2016-1-10'\n",
     "is_executing": false
    }
   }
  },
  {
   "cell_type": "code",
   "execution_count": 9,
   "outputs": [
    {
     "name": "stdout",
     "text": [
      "DatetimeIndex(['2010-01-31', '2010-02-28', '2010-03-31', '2010-04-30',\n               '2010-05-31', '2010-06-30', '2010-07-31', '2010-08-31',\n               '2010-09-30', '2010-10-31', '2010-11-30', '2010-12-31'],\n              dtype='datetime64[ns]', freq='M')\n"
     ],
     "output_type": "stream"
    }
   ],
   "source": [
    "data=pd.date_range('2010-01-01','2011-01-01',freq='M')\n",
    "print(data)\n",
    "\n"
   ],
   "metadata": {
    "collapsed": false,
    "pycharm": {
     "name": "#%%\n",
     "is_executing": false
    }
   }
  },
  {
   "cell_type": "code",
   "execution_count": 11,
   "outputs": [
    {
     "traceback": [
      "\u001b[1;31m---------------------------------------------------------------------------\u001b[0m",
      "\u001b[1;31mNameError\u001b[0m                                 Traceback (most recent call last)",
      "\u001b[1;32m<ipython-input-11-afb35d5449aa>\u001b[0m in \u001b[0;36m<module>\u001b[1;34m\u001b[0m\n\u001b[1;32m----> 1\u001b[1;33m \u001b[0mDatetimeIndex\u001b[0m\u001b[1;33m(\u001b[0m\u001b[1;33m[\u001b[0m\u001b[1;34m'2010-01-31'\u001b[0m\u001b[1;33m,\u001b[0m \u001b[1;34m'2010-02-28'\u001b[0m\u001b[1;33m,\u001b[0m \u001b[1;34m'2010-03-31'\u001b[0m\u001b[1;33m,\u001b[0m \u001b[1;34m'2010-04-30'\u001b[0m\u001b[1;33m,\u001b[0m\u001b[1;34m'2010-05-31'\u001b[0m\u001b[1;33m,\u001b[0m \u001b[1;34m'2010-06-30'\u001b[0m\u001b[1;33m,\u001b[0m \u001b[1;34m'2010-07-31'\u001b[0m\u001b[1;33m,\u001b[0m \u001b[1;34m'2010-08-31'\u001b[0m\u001b[1;33m,\u001b[0m\u001b[1;34m'2010-09-30'\u001b[0m\u001b[1;33m,\u001b[0m \u001b[1;34m'2010-10-31'\u001b[0m\u001b[1;33m,\u001b[0m \u001b[1;34m'2010-11-30'\u001b[0m\u001b[1;33m,\u001b[0m \u001b[1;34m'2010-12-31'\u001b[0m\u001b[1;33m]\u001b[0m\u001b[1;33m,\u001b[0m \u001b[0mdtype\u001b[0m\u001b[1;33m=\u001b[0m\u001b[1;34m'datetime64[ns]'\u001b[0m\u001b[1;33m,\u001b[0m \u001b[0mfreq\u001b[0m\u001b[1;33m=\u001b[0m\u001b[1;34m'M'\u001b[0m\u001b[1;33m)\u001b[0m\u001b[1;33m\u001b[0m\u001b[1;33m\u001b[0m\u001b[0m\n\u001b[0m\u001b[0;32m      2\u001b[0m \u001b[1;33m\u001b[0m\u001b[0m\n\u001b[0;32m      3\u001b[0m \u001b[1;33m\u001b[0m\u001b[0m\n",
      "\u001b[1;31mNameError\u001b[0m: name 'DatetimeIndex' is not defined"
     ],
     "ename": "NameError",
     "evalue": "name 'DatetimeIndex' is not defined",
     "output_type": "error"
    }
   ],
   "source": [
    "DatetimeIndex(['2010-01-31', '2010-02-28', '2010-03-31', '2010-04-30','2010-05-31', '2010-06-30', '2010-07-31', '2010-08-31','2010-09-30', '2010-10-31', '2010-11-30', '2010-12-31'], dtype='datetime64[ns]', freq='M')\n",
    "\n"
   ],
   "metadata": {
    "collapsed": false,
    "pycharm": {
     "name": "#%%\n",
     "is_executing": false
    }
   }
  }
 ],
 "metadata": {
  "kernelspec": {
   "display_name": "Python 3",
   "language": "python",
   "name": "python3"
  },
  "language_info": {
   "codemirror_mode": {
    "name": "ipython",
    "version": 2
   },
   "file_extension": ".py",
   "mimetype": "text/x-python",
   "name": "python",
   "nbconvert_exporter": "python",
   "pygments_lexer": "ipython2",
   "version": "2.7.6"
  },
  "pycharm": {
   "stem_cell": {
    "cell_type": "raw",
    "source": [],
    "metadata": {
     "collapsed": false
    }
   }
  }
 },
 "nbformat": 4,
 "nbformat_minor": 0
}